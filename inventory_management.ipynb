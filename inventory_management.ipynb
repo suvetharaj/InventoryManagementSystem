{
  "nbformat": 4,
  "nbformat_minor": 0,
  "metadata": {
    "colab": {
      "name": "inventory management",
      "provenance": [],
      "collapsed_sections": [],
      "authorship_tag": "ABX9TyNmyS/wjbM8u8cPUBOunDyo",
      "include_colab_link": true
    },
    "kernelspec": {
      "name": "python3",
      "display_name": "Python 3"
    },
    "language_info": {
      "name": "python"
    }
  },
  "cells": [
    {
      "cell_type": "markdown",
      "metadata": {
        "id": "view-in-github",
        "colab_type": "text"
      },
      "source": [
        "<a href=\"https://colab.research.google.com/github/suvetharaj/InventoryManagementSystem/blob/main/inventory_management.ipynb\" target=\"_parent\"><img src=\"https://colab.research.google.com/assets/colab-badge.svg\" alt=\"Open In Colab\"/></a>"
      ]
    },
    {
      "cell_type": "code",
      "metadata": {
        "id": "pWxRkM-g9bKv"
      },
      "source": [
        "\n",
        "products={1:{'pd_name':'apple','quantity(kg/l)':100,'category':'Fruit','price':50},2:{'pd_name':'banana','quantity(kg/l)':100,'category':'Fruit','price':60},3:{'pd_name':'carrot','quantity(kg/l)':100,'category':'Vegetable','price':70},4:{'pd_name':'beetroot','quantity(kg/l)':100,'category':'Vegetable','price':50},5:{'pd_name':'milk','quantity(kg/l)':200,'category':'Dairy','price':60},6:{'pd_name':'pineapple','quantity(kg/l)':50,'category':'Fruit','price':100},7:{'pd_name':'peaches','quantity(kg/l)':100,'category':'Fruit','price':40},8:{'pd_name':'wheat','quantity(kg/l)':600,'category':'Grain','price':100},9:{'pd_name':'bread','quantity(kg/l)':100,'category':'Grain','price':50},10:{'pd_name':'rice','quantity(kg/l)':500,'category':'Grain','price':20},11:{'pd_name':'oats','quantity(kg/l)':500,'category':'Grain','price':50},12:{'pd_name':'cornmeal','quantity(kg/l)':500,'category':'Grain','price':25},13:{'pd_name':'barley','quantity(kg/l)':100,'category':'Grain','price':30},14:{'pd_name':'pista','quantity(kg/l)':200,'category':'Nuts','price':30},15:{'pd_name':'badam','quantity(kg/l)':100,'category':'Nuts','price':50},16:{'pd_name':'cashew','quantity(kg/l)':400,'category':'Nuts','price':20},17:{'pd_name':'Walnuts','quantity(kg/l)':100,'category':'Nuts','price':60},18:{'pd_name':'dates','quantity(kg/l)':500,'category':'Nuts','price':90},19:{'pd_name':'peanuts','quantity(kg/l)':400,'category':'Nuts','price':80},20:{'pd_name':'guava','quantity(kg/l)':400,'category':'Fruit','price':10},21:{'pd_name':'yogurt','quantity(kg/l)':100,'category':'Dairy','price':100},22:{'pd_name':'icecream','quantity(kg/l)':100,'category':'Dairy','price':30},23:{'pd_name':'grapes','quantity(kg/l)':400,'category':'Fruit','price':40},24:{'pd_name':'Oranges','quantity(kg/l)':200,'category':'Fruit','price':90},25:{'pd_name':'cheese','quantity(kg/l)':50,'category':'Dairy','price':100},\n",
        "          26:{'pd_name':'fish','quantity(kg/l)':100,'category':'Meat','price':200},27:{'pd_name':'chicken','quantity(kg/l)':300,'category':'Meat','price':250},28:{'pd_name':'onion','quantity(kg/l)':1000,'category':'Vegetable','price':50},29:{'pd_name':'tomato','quantity(kg/l)':400,'category':'vegetable','price':25},\n",
        "          30:{'pd_name':'mutton','quantity(kg/l)':1000,'category':'Meat','price':400},31:{'pd_name':'lemon','quantity(kg/l)':600,'category':'Fruit','price':34}\n",
        "          }\n"
      ],
      "execution_count": 15,
      "outputs": []
    },
    {
      "cell_type": "code",
      "metadata": {
        "id": "WLOETFSRH4ye",
        "colab": {
          "base_uri": "https://localhost:8080/"
        },
        "outputId": "582a8e7e-8a99-42c1-8ef7-0215cb3cf6c3"
      },
      "source": [
        "products\n"
      ],
      "execution_count": 16,
      "outputs": [
        {
          "output_type": "execute_result",
          "data": {
            "text/plain": [
              "{1: {'category': 'Fruit',\n",
              "  'pd_name': 'apple',\n",
              "  'price': 50,\n",
              "  'quantity(kg/l)': 100},\n",
              " 2: {'category': 'Fruit',\n",
              "  'pd_name': 'banana',\n",
              "  'price': 60,\n",
              "  'quantity(kg/l)': 100},\n",
              " 3: {'category': 'Vegetable',\n",
              "  'pd_name': 'carrot',\n",
              "  'price': 70,\n",
              "  'quantity(kg/l)': 100},\n",
              " 4: {'category': 'Vegetable',\n",
              "  'pd_name': 'beetroot',\n",
              "  'price': 50,\n",
              "  'quantity(kg/l)': 100},\n",
              " 5: {'category': 'Dairy',\n",
              "  'pd_name': 'milk',\n",
              "  'price': 60,\n",
              "  'quantity(kg/l)': 200},\n",
              " 6: {'category': 'Fruit',\n",
              "  'pd_name': 'pineapple',\n",
              "  'price': 100,\n",
              "  'quantity(kg/l)': 50},\n",
              " 7: {'category': 'Fruit',\n",
              "  'pd_name': 'peaches',\n",
              "  'price': 40,\n",
              "  'quantity(kg/l)': 100},\n",
              " 8: {'category': 'Grain',\n",
              "  'pd_name': 'wheat',\n",
              "  'price': 100,\n",
              "  'quantity(kg/l)': 600},\n",
              " 9: {'category': 'Grain',\n",
              "  'pd_name': 'bread',\n",
              "  'price': 50,\n",
              "  'quantity(kg/l)': 100},\n",
              " 10: {'category': 'Grain',\n",
              "  'pd_name': 'rice',\n",
              "  'price': 20,\n",
              "  'quantity(kg/l)': 500},\n",
              " 11: {'category': 'Grain',\n",
              "  'pd_name': 'oats',\n",
              "  'price': 50,\n",
              "  'quantity(kg/l)': 500},\n",
              " 12: {'category': 'Grain',\n",
              "  'pd_name': 'cornmeal',\n",
              "  'price': 25,\n",
              "  'quantity(kg/l)': 500},\n",
              " 13: {'category': 'Grain',\n",
              "  'pd_name': 'barley',\n",
              "  'price': 30,\n",
              "  'quantity(kg/l)': 100},\n",
              " 14: {'category': 'Nuts',\n",
              "  'pd_name': 'pista',\n",
              "  'price': 30,\n",
              "  'quantity(kg/l)': 200},\n",
              " 15: {'category': 'Nuts',\n",
              "  'pd_name': 'badam',\n",
              "  'price': 50,\n",
              "  'quantity(kg/l)': 100},\n",
              " 16: {'category': 'Nuts',\n",
              "  'pd_name': 'cashew',\n",
              "  'price': 20,\n",
              "  'quantity(kg/l)': 400},\n",
              " 17: {'category': 'Nuts',\n",
              "  'pd_name': 'Walnuts',\n",
              "  'price': 60,\n",
              "  'quantity(kg/l)': 100},\n",
              " 18: {'category': 'Nuts',\n",
              "  'pd_name': 'dates',\n",
              "  'price': 90,\n",
              "  'quantity(kg/l)': 500},\n",
              " 19: {'category': 'Nuts',\n",
              "  'pd_name': 'peanuts',\n",
              "  'price': 80,\n",
              "  'quantity(kg/l)': 400},\n",
              " 20: {'category': 'Fruit',\n",
              "  'pd_name': 'guava',\n",
              "  'price': 10,\n",
              "  'quantity(kg/l)': 400},\n",
              " 21: {'category': 'Dairy',\n",
              "  'pd_name': 'yogurt',\n",
              "  'price': 100,\n",
              "  'quantity(kg/l)': 100},\n",
              " 22: {'category': 'Dairy',\n",
              "  'pd_name': 'icecream',\n",
              "  'price': 30,\n",
              "  'quantity(kg/l)': 100},\n",
              " 23: {'category': 'Fruit',\n",
              "  'pd_name': 'grapes',\n",
              "  'price': 40,\n",
              "  'quantity(kg/l)': 400},\n",
              " 24: {'category': 'Fruit',\n",
              "  'pd_name': 'Oranges',\n",
              "  'price': 90,\n",
              "  'quantity(kg/l)': 200},\n",
              " 25: {'category': 'Dairy',\n",
              "  'pd_name': 'cheese',\n",
              "  'price': 100,\n",
              "  'quantity(kg/l)': 50},\n",
              " 26: {'category': 'Meat',\n",
              "  'pd_name': 'fish',\n",
              "  'price': 200,\n",
              "  'quantity(kg/l)': 100},\n",
              " 27: {'category': 'Meat',\n",
              "  'pd_name': 'chicken',\n",
              "  'price': 250,\n",
              "  'quantity(kg/l)': 300},\n",
              " 28: {'category': 'Vegetable',\n",
              "  'pd_name': 'onion',\n",
              "  'price': 50,\n",
              "  'quantity(kg/l)': 1000},\n",
              " 29: {'category': 'vegetable',\n",
              "  'pd_name': 'tomato',\n",
              "  'price': 25,\n",
              "  'quantity(kg/l)': 400},\n",
              " 30: {'category': 'Meat',\n",
              "  'pd_name': 'mutton',\n",
              "  'price': 400,\n",
              "  'quantity(kg/l)': 1000},\n",
              " 31: {'category': 'Fruit',\n",
              "  'pd_name': 'lemon',\n",
              "  'price': 34,\n",
              "  'quantity(kg/l)': 600}}"
            ]
          },
          "metadata": {},
          "execution_count": 16
        }
      ]
    },
    {
      "cell_type": "code",
      "metadata": {
        "id": "lk4Kz2_lIA_t",
        "colab": {
          "base_uri": "https://localhost:8080/"
        },
        "outputId": "84db9dcf-3c0a-49b4-d820-377060a371d4"
      },
      "source": [
        "prod_num=1\n",
        "print(\"                              ELITE TECHNO INVENTORY MANAGEMENT                       \")\n",
        "print()\n",
        "print(\" Product ID\",\"        Product name\",\"                     Price\",\"            Quantity\")\n",
        "print(\"______________________________________________________________________________________\")\n",
        "print()\n",
        "for product in products:\n",
        "  print(\"  \",prod_num,end=\"            \\t\")\n",
        "  print(products[product][\"pd_name\"],\" \"*(27-len(products[product][\"pd_name\"])),end=\"\\t\")\n",
        "  print(products[product][\"price\"],\"\\t\",end=\"\\t\")\n",
        "  print(products[product][\"quantity(kg/l)\"])\n",
        "  prod_num += 1"
      ],
      "execution_count": 17,
      "outputs": [
        {
          "output_type": "stream",
          "name": "stdout",
          "text": [
            "                              ELITE TECHNO INVENTORY MANAGEMENT                       \n",
            "\n",
            " Product ID         Product name                      Price             Quantity\n",
            "______________________________________________________________________________________\n",
            "\n",
            "   1            \tapple                       \t50 \t\t100\n",
            "   2            \tbanana                      \t60 \t\t100\n",
            "   3            \tcarrot                      \t70 \t\t100\n",
            "   4            \tbeetroot                    \t50 \t\t100\n",
            "   5            \tmilk                        \t60 \t\t200\n",
            "   6            \tpineapple                   \t100 \t\t50\n",
            "   7            \tpeaches                     \t40 \t\t100\n",
            "   8            \twheat                       \t100 \t\t600\n",
            "   9            \tbread                       \t50 \t\t100\n",
            "   10            \trice                        \t20 \t\t500\n",
            "   11            \toats                        \t50 \t\t500\n",
            "   12            \tcornmeal                    \t25 \t\t500\n",
            "   13            \tbarley                      \t30 \t\t100\n",
            "   14            \tpista                       \t30 \t\t200\n",
            "   15            \tbadam                       \t50 \t\t100\n",
            "   16            \tcashew                      \t20 \t\t400\n",
            "   17            \tWalnuts                     \t60 \t\t100\n",
            "   18            \tdates                       \t90 \t\t500\n",
            "   19            \tpeanuts                     \t80 \t\t400\n",
            "   20            \tguava                       \t10 \t\t400\n",
            "   21            \tyogurt                      \t100 \t\t100\n",
            "   22            \ticecream                    \t30 \t\t100\n",
            "   23            \tgrapes                      \t40 \t\t400\n",
            "   24            \tOranges                     \t90 \t\t200\n",
            "   25            \tcheese                      \t100 \t\t50\n",
            "   26            \tfish                        \t200 \t\t100\n",
            "   27            \tchicken                     \t250 \t\t300\n",
            "   28            \tonion                       \t50 \t\t1000\n",
            "   29            \ttomato                      \t25 \t\t400\n",
            "   30            \tmutton                      \t400 \t\t1000\n",
            "   31            \tlemon                       \t34 \t\t600\n"
          ]
        }
      ]
    },
    {
      "cell_type": "code",
      "metadata": {
        "id": "utJ6tTXiUaXw",
        "colab": {
          "base_uri": "https://localhost:8080/"
        },
        "outputId": "045420fd-fc82-4b1c-97ee-962113be6afa"
      },
      "source": [
        "print(\"               ELITE TECHNO INVENTORY MANAGEMENT                  \" )\n",
        "nr=input(\"BUY PRODUCTS IN ELITE TECHNO ENTER y : \")\n",
        "totalprice=0\n",
        "billing={}\n",
        "total_products={}\n",
        "while nr=='y':\n",
        "  prod_no=int(input(\"Enter the product ID : \"))\n",
        "  if  prod_no not in products.keys():\n",
        "    print(\"Please Enter a Valid Product ID\")\n",
        "    continue\n",
        "  userquantity=int(input(\"Enter Quantity : \"))\n",
        "  if products[prod_no]['quantity(kg/l)']==0:\n",
        "    print(\"Product not available\")\n",
        "  elif products[prod_no]['quantity(kg/l)']<userquantity:\n",
        "    print(\"Only \",products[prod_no]['quantity(kg/l)'],\" is avaliable\")\n",
        "  else:\n",
        "    total=products[prod_no]['price']*userquantity\n",
        "    print(\"price : \",total)\n",
        "    products[prod_no]['quantity(kg/l)']-=userquantity\n",
        "    totalprice+=total\n",
        "    if userquantity not in billing:\n",
        "      billing[prod_no]=userquantity\n",
        "    else:\n",
        "      billing[prod_no]+=userquantity\n",
        "  nr=input(\"Enter 'y' to continue or 'n' to stop \")\n",
        "\n",
        "else:\n",
        "  print(\"Thanks for visiting ELITE TECHNO INVENTORY MANAGEMENT\")\n"
      ],
      "execution_count": 18,
      "outputs": [
        {
          "output_type": "stream",
          "name": "stdout",
          "text": [
            "               ELITE TECHNO INVENTORY MANAGEMENT                  \n",
            "BUY PRODUCTS IN ELITE TECHNO ENTER y : y\n",
            "Enter the product ID : 1\n",
            "Enter Quantity : 10\n",
            "price :  500\n",
            "Enter 'y' to continue or 'n' to stop y\n",
            "Enter the product ID : 21\n",
            "Enter Quantity : 20\n",
            "price :  2000\n",
            "Enter 'y' to continue or 'n' to stop y\n",
            "Enter the product ID : 22\n",
            "Enter Quantity : 34\n",
            "price :  1020\n",
            "Enter 'y' to continue or 'n' to stop y\n",
            "Enter the product ID : 31\n",
            "Enter Quantity : 600\n",
            "price :  20400\n",
            "Enter 'y' to continue or 'n' to stop y\n",
            "Enter the product ID : 16\n",
            "Enter Quantity : 33\n",
            "price :  660\n",
            "Enter 'y' to continue or 'n' to stop y\n",
            "Enter the product ID : 28\n",
            "Enter Quantity : 9\n",
            "price :  450\n",
            "Enter 'y' to continue or 'n' to stop y\n",
            "Enter the product ID : 12\n",
            "Enter Quantity : 70\n",
            "price :  1750\n",
            "Enter 'y' to continue or 'n' to stop y\n",
            "Enter the product ID : 30\n",
            "Enter Quantity : 54\n",
            "price :  21600\n",
            "Enter 'y' to continue or 'n' to stop y\n",
            "Enter the product ID : 4\n",
            "Enter Quantity : 66\n",
            "price :  3300\n",
            "Enter 'y' to continue or 'n' to stop y\n",
            "Enter the product ID : 4\n",
            "Enter Quantity : 44\n",
            "Only  34  is avaliable\n",
            "Enter 'y' to continue or 'n' to stop y\n",
            "Enter the product ID : 4\n",
            "Enter Quantity : 34\n",
            "price :  1700\n",
            "Enter 'y' to continue or 'n' to stop y\n",
            "Enter the product ID : 17\n",
            "Enter Quantity : 200\n",
            "Only  100  is avaliable\n",
            "Enter 'y' to continue or 'n' to stop y\n",
            "Enter the product ID : 17\n",
            "Enter Quantity : 100\n",
            "price :  6000\n",
            "Enter 'y' to continue or 'n' to stop n\n",
            "Thanks for visiting ELITE TECHNO INVENTORY MANAGEMENT\n"
          ]
        }
      ]
    },
    {
      "cell_type": "code",
      "metadata": {
        "id": "d-LmCpKCbVWB",
        "colab": {
          "base_uri": "https://localhost:8080/"
        },
        "outputId": "f754c49e-cc48-436e-e9c9-5bffc0d6b6e8"
      },
      "source": [
        "print(\"                                         ELITE TECHNO INVENTORY MANAGEMENT                                         \")\n",
        "print()\n",
        "print(\"                                                   CASH RECEIPT                                            \")\n",
        "print(\"================================================================================================================\")\n",
        "print(\"PRODUCT ID     PRODUCT NAME             PRICE           CATEGORY            QUANTITY       AMOUNT\")\n",
        "print(\"================================================================================================================\")\n",
        "print()\n",
        "for i in billing:\n",
        "  print(i,\"\\t\\t\",'{:<10s}'.format(products[i]['pd_name']),'{:>15}'.format(products[i]['price']),'{:>20s}'.format(products[i]['category']),'{:>15}'.format(billing[i]),'{:>15}'.format(products[i]['price']*billing[i]))\n",
        "print()\n",
        "print()\n",
        "print(\"                                                                        TOTAL AMOUNT          Rs.\",totalprice)\n",
        "print()\n",
        "print()\n",
        "print(\"================================================================================================================\")\n",
        "print(\"                                                    THANK YOU!!!\")"
      ],
      "execution_count": 50,
      "outputs": [
        {
          "output_type": "stream",
          "name": "stdout",
          "text": [
            "                                         ELITE TECHNO INVENTORY MANAGEMENT                                         \n",
            "\n",
            "                                                   CASH RECEIPT                                            \n",
            "================================================================================================================\n",
            "PRODUCT ID     PRODUCT NAME             PRICE           CATEGORY            QUANTITY       AMOUNT\n",
            "================================================================================================================\n",
            "\n",
            "1 \t\t apple                   50                Fruit              10             500\n",
            "21 \t\t yogurt                 100                Dairy              20            2000\n",
            "22 \t\t icecream                30                Dairy              34            1020\n",
            "31 \t\t lemon                   34                Fruit             600           20400\n",
            "16 \t\t cashew                  20                 Nuts              33             660\n",
            "28 \t\t onion                   50            Vegetable               9             450\n",
            "12 \t\t cornmeal                25                Grain              70            1750\n",
            "30 \t\t mutton                 400                 Meat              54           21600\n",
            "4 \t\t beetroot                50            Vegetable              34            1700\n",
            "17 \t\t Walnuts                 60                 Nuts             100            6000\n",
            "\n",
            "\n",
            "                                                                        TOTAL AMOUNT          Rs. 59380\n",
            "\n",
            "\n",
            "================================================================================================================\n",
            "                                                    THANK YOU!!!\n"
          ]
        }
      ]
    },
    {
      "cell_type": "code",
      "metadata": {
        "id": "uVndpYrmdz_T"
      },
      "source": [
        "import json\n",
        "js=json.dumps(products)"
      ],
      "execution_count": 51,
      "outputs": []
    },
    {
      "cell_type": "code",
      "metadata": {
        "id": "AnhS8V2hd7to"
      },
      "source": [
        "fd=open(\"inventory.json\",'w')\n",
        "txt = fd.write(js)\n",
        "fd.close()"
      ],
      "execution_count": 52,
      "outputs": []
    },
    {
      "cell_type": "code",
      "metadata": {
        "id": "vvu4Kpn0d8_6"
      },
      "source": [
        "fd=open(\"inventory.json\",'r')\n",
        "txt=fd.read()\n",
        "fd.close()"
      ],
      "execution_count": 53,
      "outputs": []
    },
    {
      "cell_type": "code",
      "metadata": {
        "id": "ZlGWHj1YeJTT"
      },
      "source": [
        "product =json.loads(txt)"
      ],
      "execution_count": 54,
      "outputs": []
    },
    {
      "cell_type": "code",
      "metadata": {
        "id": "olzgq4IDeQx1",
        "colab": {
          "base_uri": "https://localhost:8080/"
        },
        "outputId": "b41c0972-a677-48d9-93fb-603994fc5cce"
      },
      "source": [
        "product"
      ],
      "execution_count": 55,
      "outputs": [
        {
          "output_type": "execute_result",
          "data": {
            "text/plain": [
              "{'1': {'category': 'Fruit',\n",
              "  'pd_name': 'apple',\n",
              "  'price': 50,\n",
              "  'quantity(kg/l)': 90},\n",
              " '10': {'category': 'Grain',\n",
              "  'pd_name': 'rice',\n",
              "  'price': 20,\n",
              "  'quantity(kg/l)': 500},\n",
              " '11': {'category': 'Grain',\n",
              "  'pd_name': 'oats',\n",
              "  'price': 50,\n",
              "  'quantity(kg/l)': 500},\n",
              " '12': {'category': 'Grain',\n",
              "  'pd_name': 'cornmeal',\n",
              "  'price': 25,\n",
              "  'quantity(kg/l)': 430},\n",
              " '13': {'category': 'Grain',\n",
              "  'pd_name': 'barley',\n",
              "  'price': 30,\n",
              "  'quantity(kg/l)': 100},\n",
              " '14': {'category': 'Nuts',\n",
              "  'pd_name': 'pista',\n",
              "  'price': 30,\n",
              "  'quantity(kg/l)': 200},\n",
              " '15': {'category': 'Nuts',\n",
              "  'pd_name': 'badam',\n",
              "  'price': 50,\n",
              "  'quantity(kg/l)': 100},\n",
              " '16': {'category': 'Nuts',\n",
              "  'pd_name': 'cashew',\n",
              "  'price': 20,\n",
              "  'quantity(kg/l)': 367},\n",
              " '17': {'category': 'Nuts',\n",
              "  'pd_name': 'Walnuts',\n",
              "  'price': 60,\n",
              "  'quantity(kg/l)': 0},\n",
              " '18': {'category': 'Nuts',\n",
              "  'pd_name': 'dates',\n",
              "  'price': 90,\n",
              "  'quantity(kg/l)': 500},\n",
              " '19': {'category': 'Nuts',\n",
              "  'pd_name': 'peanuts',\n",
              "  'price': 80,\n",
              "  'quantity(kg/l)': 400},\n",
              " '2': {'category': 'Fruit',\n",
              "  'pd_name': 'banana',\n",
              "  'price': 60,\n",
              "  'quantity(kg/l)': 100},\n",
              " '20': {'category': 'Fruit',\n",
              "  'pd_name': 'guava',\n",
              "  'price': 10,\n",
              "  'quantity(kg/l)': 400},\n",
              " '21': {'category': 'Dairy',\n",
              "  'pd_name': 'yogurt',\n",
              "  'price': 100,\n",
              "  'quantity(kg/l)': 80},\n",
              " '22': {'category': 'Dairy',\n",
              "  'pd_name': 'icecream',\n",
              "  'price': 30,\n",
              "  'quantity(kg/l)': 66},\n",
              " '23': {'category': 'Fruit',\n",
              "  'pd_name': 'grapes',\n",
              "  'price': 40,\n",
              "  'quantity(kg/l)': 400},\n",
              " '24': {'category': 'Fruit',\n",
              "  'pd_name': 'Oranges',\n",
              "  'price': 90,\n",
              "  'quantity(kg/l)': 200},\n",
              " '25': {'category': 'Dairy',\n",
              "  'pd_name': 'cheese',\n",
              "  'price': 100,\n",
              "  'quantity(kg/l)': 50},\n",
              " '26': {'category': 'Meat',\n",
              "  'pd_name': 'fish',\n",
              "  'price': 200,\n",
              "  'quantity(kg/l)': 100},\n",
              " '27': {'category': 'Meat',\n",
              "  'pd_name': 'chicken',\n",
              "  'price': 250,\n",
              "  'quantity(kg/l)': 300},\n",
              " '28': {'category': 'Vegetable',\n",
              "  'pd_name': 'onion',\n",
              "  'price': 50,\n",
              "  'quantity(kg/l)': 991},\n",
              " '29': {'category': 'vegetable',\n",
              "  'pd_name': 'tomato',\n",
              "  'price': 25,\n",
              "  'quantity(kg/l)': 400},\n",
              " '3': {'category': 'Vegetable',\n",
              "  'pd_name': 'carrot',\n",
              "  'price': 70,\n",
              "  'quantity(kg/l)': 100},\n",
              " '30': {'category': 'Meat',\n",
              "  'pd_name': 'mutton',\n",
              "  'price': 400,\n",
              "  'quantity(kg/l)': 946},\n",
              " '31': {'category': 'Fruit',\n",
              "  'pd_name': 'lemon',\n",
              "  'price': 34,\n",
              "  'quantity(kg/l)': 0},\n",
              " '4': {'category': 'Vegetable',\n",
              "  'pd_name': 'beetroot',\n",
              "  'price': 50,\n",
              "  'quantity(kg/l)': 0},\n",
              " '5': {'category': 'Dairy',\n",
              "  'pd_name': 'milk',\n",
              "  'price': 60,\n",
              "  'quantity(kg/l)': 200},\n",
              " '6': {'category': 'Fruit',\n",
              "  'pd_name': 'pineapple',\n",
              "  'price': 100,\n",
              "  'quantity(kg/l)': 50},\n",
              " '7': {'category': 'Fruit',\n",
              "  'pd_name': 'peaches',\n",
              "  'price': 40,\n",
              "  'quantity(kg/l)': 100},\n",
              " '8': {'category': 'Grain',\n",
              "  'pd_name': 'wheat',\n",
              "  'price': 100,\n",
              "  'quantity(kg/l)': 600},\n",
              " '9': {'category': 'Grain',\n",
              "  'pd_name': 'bread',\n",
              "  'price': 50,\n",
              "  'quantity(kg/l)': 100}}"
            ]
          },
          "metadata": {},
          "execution_count": 55
        }
      ]
    },
    {
      "cell_type": "code",
      "metadata": {
        "id": "50nlSQFUsXc-",
        "colab": {
          "base_uri": "https://localhost:8080/"
        },
        "outputId": "5f0993f7-433f-49cd-cb6e-05fe7ee6940c"
      },
      "source": [
        "billing\n"
      ],
      "execution_count": 57,
      "outputs": [
        {
          "output_type": "execute_result",
          "data": {
            "text/plain": [
              "{1: 10, 4: 34, 12: 70, 16: 33, 17: 100, 21: 20, 22: 34, 28: 9, 30: 54, 31: 600}"
            ]
          },
          "metadata": {},
          "execution_count": 57
        }
      ]
    },
    {
      "cell_type": "code",
      "metadata": {
        "id": "rEa_CwmlsmYv"
      },
      "source": [
        "js=json.dumps(billing)\n",
        "fd=open(\"bill.json\",'w')\n",
        "txt = fd.write(js)\n",
        "fd.close()"
      ],
      "execution_count": 58,
      "outputs": []
    },
    {
      "cell_type": "code",
      "metadata": {
        "id": "apHJnmVBsrM7"
      },
      "source": [
        "fd=open(\"bill.json\",'r')\n",
        "txt=fd.read()\n",
        "fd.close()"
      ],
      "execution_count": 59,
      "outputs": []
    },
    {
      "cell_type": "code",
      "metadata": {
        "colab": {
          "base_uri": "https://localhost:8080/"
        },
        "id": "IcCDPvNOekgR",
        "outputId": "277917ba-a770-4abc-b28e-a67d4768db31"
      },
      "source": [
        "print(\"update product list\")\n",
        "i=input(\"New product available enter 'y' : \")\n",
        "while(i=='y'):\n",
        "  newpd_id=int(input(\"Enter the new product ID : \"))\n",
        "  if newpd_id not in products:\n",
        "    newpd_name=input(\"Enter the new product name : \")\n",
        "    newpd_quantity=int(input(\"Enter the new product quantity : \"))\n",
        "    newpd_category=input(\"Enter the category : \")\n",
        "    newpd_price=int(input(\"Enter the price : \"))\n",
        "    products[newpd_id]={'pd_name':newpd_name,'quantity(kg/l)':newpd_quantity,'category':newpd_category,'price':newpd_price}\n",
        "  else:\n",
        "    newpd_quantity=int(input(\"Enter the new product quantity : \"))\n",
        "    products[newpd_id]['quantity(kg/l)']+=newpd_quantity\n",
        "  i=input(\"Enter 'y' to continue updating or 'n' to stop : \")\n"
      ],
      "execution_count": 60,
      "outputs": [
        {
          "name": "stdout",
          "output_type": "stream",
          "text": [
            "update product list\n",
            "New product available enter 'y' : y\n",
            "Enter the new product ID : 33\n",
            "Enter the new product name : cheese\n",
            "Enter the new product quantity : 500\n",
            "Enter the category : Dairy\n",
            "Enter the price : 45\n",
            "Enter 'y' to continue updating or 'n' to stop : y\n",
            "Enter the new product ID : 1\n",
            "Enter the new product quantity : 500\n",
            "Enter 'y' to continue updating or 'n' to stop : y\n",
            "Enter the new product ID : 35\n",
            "Enter the new product name : chilli\n",
            "Enter the new product quantity : 900\n",
            "Enter the category : vegetable\n",
            "Enter the price : 2\n",
            "Enter 'y' to continue updating or 'n' to stop : n\n"
          ]
        }
      ]
    },
    {
      "cell_type": "code",
      "metadata": {
        "id": "3hKXD_QjpcC_"
      },
      "source": [
        "js=json.dumps(products)\n",
        "fd=open(\"inventory.json\",'w')\n",
        "txt = fd.write(js)\n",
        "fd.close()"
      ],
      "execution_count": 61,
      "outputs": []
    },
    {
      "cell_type": "code",
      "metadata": {
        "id": "5NNV0zuDpgIO"
      },
      "source": [
        "fd=open(\"inventory.json\",'r')\n",
        "txt=fd.read()\n",
        "fd.close()"
      ],
      "execution_count": 62,
      "outputs": []
    },
    {
      "cell_type": "code",
      "metadata": {
        "id": "hXVoSLpHmCmM",
        "colab": {
          "base_uri": "https://localhost:8080/"
        },
        "outputId": "b9183da0-c3bf-4ce0-d9e3-f3861b95110b"
      },
      "source": [
        "print(len(billing))"
      ],
      "execution_count": 63,
      "outputs": [
        {
          "output_type": "stream",
          "name": "stdout",
          "text": [
            "10\n"
          ]
        }
      ]
    }
  ]
}